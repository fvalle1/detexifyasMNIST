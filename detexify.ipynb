{
 "cells": [
  {
   "cell_type": "code",
   "execution_count": null,
   "metadata": {
    "colab": {
     "base_uri": "https://localhost:8080/",
     "height": 198
    },
    "executionInfo": {
     "elapsed": 22,
     "status": "error",
     "timestamp": 1670430359828,
     "user": {
      "displayName": "Filippo Valle",
      "userId": "01935733859936854827"
     },
     "user_tz": -60
    },
    "id": "HiCzRHSJpVDa",
    "outputId": "61961f95-938e-4d94-ea36-e04679634483"
   },
   "outputs": [],
   "source": [
    "import psycopg\n",
    "import os"
   ]
  },
  {
   "cell_type": "code",
   "execution_count": null,
   "metadata": {
    "executionInfo": {
     "elapsed": 21,
     "status": "aborted",
     "timestamp": 1670430359829,
     "user": {
      "displayName": "Filippo Valle",
      "userId": "01935733859936854827"
     },
     "user_tz": -60
    },
    "id": "Znp2kIibptFG"
   },
   "outputs": [],
   "source": [
    "dbfile = \"detexify.sql\""
   ]
  },
  {
   "cell_type": "code",
   "execution_count": null,
   "metadata": {
    "executionInfo": {
     "elapsed": 21,
     "status": "aborted",
     "timestamp": 1670430359829,
     "user": {
      "displayName": "Filippo Valle",
      "userId": "01935733859936854827"
     },
     "user_tz": -60
    },
    "id": "h-MVIpsQc9J8"
   },
   "outputs": [],
   "source": [
    "import json\n",
    "import plotly.express as px\n",
    "import plotly.graph_objects as go\n",
    "import tensorflow as tf\n",
    "import matplotlib.pyplot as plt\n",
    "import numpy as np"
   ]
  },
  {
   "cell_type": "code",
   "execution_count": null,
   "metadata": {
    "executionInfo": {
     "elapsed": 20,
     "status": "aborted",
     "timestamp": 1670430359829,
     "user": {
      "displayName": "Filippo Valle",
      "userId": "01935733859936854827"
     },
     "user_tz": -60
    },
    "id": "FtWfDt6rdM1E"
   },
   "outputs": [],
   "source": [
    "with open(\"symbols.json\", \"r\") as f:\n",
    "    symbols = json.load(f)"
   ]
  },
  {
   "cell_type": "code",
   "execution_count": null,
   "metadata": {
    "executionInfo": {
     "elapsed": 21,
     "status": "aborted",
     "timestamp": 1670430359830,
     "user": {
      "displayName": "Filippo Valle",
      "userId": "01935733859936854827"
     },
     "user_tz": -60
    },
    "id": "WhG9DRZndhBQ"
   },
   "outputs": [],
   "source": [
    "symbols[1]"
   ]
  },
  {
   "cell_type": "code",
   "execution_count": null,
   "metadata": {
    "executionInfo": {
     "elapsed": 21,
     "status": "aborted",
     "timestamp": 1670430359830,
     "user": {
      "displayName": "Filippo Valle",
      "userId": "01935733859936854827"
     },
     "user_tz": -60
    },
    "id": "1gkBVIPstqFw"
   },
   "outputs": [],
   "source": [
    "io = open(\"detexify.sql\", \"r\")\n",
    "for i in range(77): #skip unuseful lines\n",
    "    io.readline()"
   ]
  },
  {
   "cell_type": "code",
   "execution_count": null,
   "metadata": {
    "executionInfo": {
     "elapsed": 21,
     "status": "aborted",
     "timestamp": 1670430359830,
     "user": {
      "displayName": "Filippo Valle",
      "userId": "01935733859936854827"
     },
     "user_tz": -60
    },
    "id": "8m67L8Rx2Fts"
   },
   "outputs": [],
   "source": [
    "def parse_stroke(strokes):\n",
    "    return [[(x[0],x[1]) for x in stroke] for stroke in json.loads(strokes)]\n",
    "\n",
    "def parse_image(strokes, nbins=25, pad=50):\n",
    "    data = np.concatenate(strokes)\n",
    "    bins_x = np.linspace(data[:,0].min()-pad, data[:,0].max()+pad, nbins+1)\n",
    "    bins_y = np.linspace(data[:,1].min()-pad, data[:,1].max()+pad, nbins+1)\n",
    "    image = np.histogram2d([x for x,y in data], \n",
    "                            [y for x,y in data],\n",
    "                            bins=[bins_x,bins_y])[0].T\n",
    "    image = tf.reshape(image, (nbins,nbins,1))\n",
    "    image = tf.keras.preprocessing.image.smart_resize(image, (28,28))\n",
    "    return image\n",
    "\n",
    "def parse_line(line):\n",
    "    line = line.split(\"\\t\")\n",
    "    strokes = parse_stroke(line[2])\n",
    "    image = parse_image(strokes)\n",
    "    return line[1], strokes, image"
   ]
  },
  {
   "cell_type": "code",
   "execution_count": null,
   "metadata": {
    "executionInfo": {
     "elapsed": 21,
     "status": "aborted",
     "timestamp": 1670430359830,
     "user": {
      "displayName": "Filippo Valle",
      "userId": "01935733859936854827"
     },
     "user_tz": -60
    },
    "id": "7X0udete2Cd4"
   },
   "outputs": [],
   "source": [
    "parsed = parse_line(io.readline())\n",
    "fig = go.Figure()\n",
    "fig.add_traces([\n",
    "                go.Scatter(x = [x for x,y in stroke], y = [500-y for x,y in stroke], mode=\"lines\")\n",
    "                for stroke in parsed[1]\n",
    "                ])\n",
    "fig.update_layout({\"title\":parsed[0]})"
   ]
  },
  {
   "cell_type": "code",
   "execution_count": null,
   "metadata": {
    "executionInfo": {
     "elapsed": 20,
     "status": "aborted",
     "timestamp": 1670430359830,
     "user": {
      "displayName": "Filippo Valle",
      "userId": "01935733859936854827"
     },
     "user_tz": -60
    },
    "id": "iFP9DLoq3vFc"
   },
   "outputs": [],
   "source": [
    "image = parsed[2]\n",
    "plt.imshow(image[:,:,0],\n",
    "           cmap=\"Greys\")"
   ]
  },
  {
   "cell_type": "code",
   "execution_count": null,
   "metadata": {
    "executionInfo": {
     "elapsed": 20,
     "status": "aborted",
     "timestamp": 1670430359830,
     "user": {
      "displayName": "Filippo Valle",
      "userId": "01935733859936854827"
     },
     "user_tz": -60
    },
    "id": "ww9tMhv9_VGI"
   },
   "outputs": [],
   "source": [
    "X = []\n",
    "y = []\n",
    "for i in range(50000):\n",
    "    if (i%100==0):\n",
    "        print(i)\n",
    "    label, _, image = parse_line(io.readline())\n",
    "    X.append(image)\n",
    "    y.append(label)"
   ]
  },
  {
   "cell_type": "code",
   "execution_count": null,
   "metadata": {
    "executionInfo": {
     "elapsed": 21,
     "status": "aborted",
     "timestamp": 1670430359831,
     "user": {
      "displayName": "Filippo Valle",
      "userId": "01935733859936854827"
     },
     "user_tz": -60
    },
    "id": "0AofRoeUAQkY"
   },
   "outputs": [],
   "source": [
    "np.savetxt(\"X_detexify.txt\", tf.reshape(X, (-1,28*28)))\n",
    "labels, y = np.unique(y, return_inverse=True)\n",
    "np.savetxt(\"y_detexify.txt\", y, fmt=\"%d\")\n",
    "np.savetxt(\"labels_detexify.txt\", labels, fmt=\"%s\")"
   ]
  },
  {
   "cell_type": "code",
   "execution_count": null,
   "metadata": {
    "executionInfo": {
     "elapsed": 21,
     "status": "aborted",
     "timestamp": 1670430359831,
     "user": {
      "displayName": "Filippo Valle",
      "userId": "01935733859936854827"
     },
     "user_tz": -60
    },
    "id": "Gh8WyIs9E0K4"
   },
   "outputs": [],
   "source": [
    "fig, axs = plt.subplots(2,5, figsize=(18,8))\n",
    "for ax in axs.ravel():\n",
    "    i = np.random.randint(0,np.shape(X)[0])\n",
    "    ax.imshow(X[i][:,:,0], cmap=\"gray\")\n",
    "    ax.set_title(labels[y[i]])\n",
    "plt.show()"
   ]
  },
  {
   "cell_type": "code",
   "execution_count": null,
   "metadata": {
    "executionInfo": {
     "elapsed": 20,
     "status": "aborted",
     "timestamp": 1670430359831,
     "user": {
      "displayName": "Filippo Valle",
      "userId": "01935733859936854827"
     },
     "user_tz": -60
    },
    "id": "ZAPGtESAC6GY"
   },
   "outputs": [],
   "source": [
    "plt.hist(np.unique(y, return_counts=True)[1], bins=np.linspace(0,100,50))\n",
    "\n",
    "plt.show()"
   ]
  },
  {
   "cell_type": "code",
   "execution_count": null,
   "metadata": {
    "executionInfo": {
     "elapsed": 20,
     "status": "aborted",
     "timestamp": 1670430359831,
     "user": {
      "displayName": "Filippo Valle",
      "userId": "01935733859936854827"
     },
     "user_tz": -60
    },
    "id": "QiqEQ8UlDfvw"
   },
   "outputs": [],
   "source": []
  }
 ],
 "metadata": {
  "colab": {
   "provenance": []
  },
  "kernelspec": {
   "display_name": "Python 3.10.6 64-bit",
   "language": "python",
   "name": "python3"
  },
  "language_info": {
   "codemirror_mode": {
    "name": "ipython",
    "version": 3
   },
   "file_extension": ".py",
   "mimetype": "text/x-python",
   "name": "python",
   "nbconvert_exporter": "python",
   "pygments_lexer": "ipython3",
   "version": "3.10.7"
  },
  "vscode": {
   "interpreter": {
    "hash": "916dbcbb3f70747c44a77c7bcd40155683ae19c65e1c03b4aa3499c5328201f1"
   }
  }
 },
 "nbformat": 4,
 "nbformat_minor": 0
}
